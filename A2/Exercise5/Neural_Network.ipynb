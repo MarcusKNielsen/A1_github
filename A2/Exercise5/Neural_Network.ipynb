{
 "cells": [
  {
   "cell_type": "markdown",
   "id": "0369983c",
   "metadata": {},
   "source": [
    "# Physics-Informed Neural Networks\n",
    "\n",
    "## Allan Peter Engsig-Karup (apek@dtu.dk)\n",
    "## May 7th, 2024"
   ]
  },
  {
   "cell_type": "code",
   "execution_count": 2,
   "id": "8133ed99",
   "metadata": {},
   "outputs": [
    {
     "name": "stdout",
     "output_type": "stream",
     "text": [
      "6.3.0\n"
     ]
    }
   ],
   "source": [
    "import notebook as nb\n",
    "print(nb.__version__)"
   ]
  },
  {
   "cell_type": "code",
   "execution_count": 3,
   "id": "85f61d59",
   "metadata": {},
   "outputs": [
    {
     "data": {
      "text/plain": [
       "['builtins', 'builtins', 'numpy', 'matplotlib.pyplot', 'notebook', 'types']"
      ]
     },
     "execution_count": 3,
     "metadata": {},
     "output_type": "execute_result"
    }
   ],
   "source": [
    "import types\n",
    "def imports():  \n",
    "    \n",
    "    for name, val in globals().items():\n",
    "        if isinstance(val, types.ModuleType):\n",
    "            yield val.__name__ \n",
    "list(imports())"
   ]
  },
  {
   "cell_type": "markdown",
   "id": "98b9eb62",
   "metadata": {},
   "source": [
    "We consider in the following the use of Physics-Informed Neural Networks(PINNs) for the construction of a surrogate model for the solution to the linear advection equation in one space dimension.\n",
    "$u_{t}+cu_{x}=0 \\qquad  t ∈ \\mathbb{R^+}, x ∈ \\mathbb{R}$ \n",
    "This problem have analytical solutions in the form $u(x,t)=f(x-ct)$, and an initial condition of the form $u(x,0)=f(x)=\\sin(\\pi x)$ is assumed. For $c>0$, a boundary condition is imposed on the left boundary because the information is travelling from left to right in this case\n",
    "$u(0,t)=f(-ct)=\\sin(-\\pi ct)$"
   ]
  },
  {
   "cell_type": "code",
   "execution_count": 4,
   "id": "27468776",
   "metadata": {
    "scrolled": true
   },
   "outputs": [
    {
     "name": "stdout",
     "output_type": "stream",
     "text": [
      "Using CPU\n"
     ]
    },
    {
     "name": "stderr",
     "output_type": "stream",
     "text": [
      "c:\\Users\\maria\\.conda\\envs\\DataAlgo\\lib\\site-packages\\torch\\functional.py:512: UserWarning: torch.meshgrid: in an upcoming release, it will be required to pass the indexing argument. (Triggered internally at C:\\actions-runner\\_work\\pytorch\\pytorch\\builder\\windows\\pytorch\\aten\\src\\ATen\\native\\TensorShape.cpp:3588.)\n",
      "  return _VF.meshgrid(tensors, **kwargs)  # type: ignore[attr-defined]\n"
     ]
    },
    {
     "name": "stdout",
     "output_type": "stream",
     "text": [
      "Epoch 0: Loss = 5.803065353345694\n",
      "Epoch 50: Loss = 3.96571928261779\n",
      "Epoch 100: Loss = 0.6997458718383641\n",
      "Epoch 150: Loss = 0.5076392223917112\n",
      "Epoch 200: Loss = 0.2231981317539948\n",
      "Epoch 250: Loss = 0.1388584598235322\n",
      "Epoch 300: Loss = 0.25847352411048413\n",
      "Epoch 350: Loss = 0.11616643486738304\n",
      "Epoch 400: Loss = 0.17443890761400965\n",
      "Epoch 450: Loss = 0.10355665022247659\n",
      "Epoch 500: Loss = 0.18310164521827713\n",
      "Epoch 550: Loss = 0.09098376662871573\n",
      "Epoch 600: Loss = 0.5025870572881548\n",
      "Epoch 650: Loss = 0.10269908905086209\n",
      "Epoch 700: Loss = 0.0807760466876368\n",
      "Epoch 750: Loss = 0.0574288038427526\n",
      "Epoch 800: Loss = 0.430984636663023\n",
      "Epoch 850: Loss = 0.09296736034289096\n",
      "Epoch 900: Loss = 0.06433357705087554\n",
      "Epoch 950: Loss = 0.03826164662394896\n"
     ]
    }
   ],
   "source": [
    "import torch\n",
    "import torch.nn as nn\n",
    "import numpy as np\n",
    "import matplotlib.pyplot as plt\n",
    "\n",
    "# High precision\n",
    "torch.set_default_dtype(torch.float64)\n",
    "\n",
    "# Define device\n",
    "if torch.cuda.is_available():\n",
    "    device = torch.device(\"cuda\")\n",
    "    print(\"Using CUDA on GPU\")\n",
    "# Check for MPS availability next if CUDA is not available (for macOS with Apple Silicon)\n",
    "elif torch.backends.mps.is_available():\n",
    "    device = torch.device(\"mps\")\n",
    "    print(\"Using MPS on Apple Silicon GPU\")\n",
    "    torch.set_default_dtype(torch.float32) # mps does not allow for float64\n",
    "# Default to CPU if neither CUDA nor MPS is available\n",
    "else:\n",
    "    device = torch.device(\"cpu\")\n",
    "    print(\"Using CPU\")\n",
    "\n",
    "# Define the neural network model\n",
    "class PINN(nn.Module):\n",
    "    def __init__(self):\n",
    "        super(PINN, self).__init__()\n",
    "        self.net = nn.Sequential(\n",
    "            nn.Linear(2, 30),\n",
    "            nn.Tanh(),\n",
    "            nn.Linear(30, 30),\n",
    "            nn.Tanh(),\n",
    "            nn.Linear(30, 30),\n",
    "            nn.Tanh(),\n",
    "            nn.Linear(30, 30),\n",
    "            nn.Tanh(),\n",
    "            nn.Linear(30, 30),\n",
    "            nn.Tanh(),\n",
    "            nn.Linear(30, 1)\n",
    "        )\n",
    "\n",
    "    def forward(self, x, t):\n",
    "        xt = torch.cat((x, t), dim=1)\n",
    "        u = self.net(xt)\n",
    "        return u\n",
    "\n",
    "# Helper functions to calculate derivatives\n",
    "def grad(outputs, inputs):\n",
    "    return torch.autograd.grad(outputs, inputs, grad_outputs=torch.ones_like(outputs), create_graph=True, retain_graph=True)[0]\n",
    "\n",
    "# Physics-informed loss\n",
    "def loss_fn(model, x, t, c):\n",
    "    x.requires_grad_(True)\n",
    "    t.requires_grad_(True)\n",
    "\n",
    "    u = model(x, t)\n",
    "\n",
    "    u_t = grad(u, t)\n",
    "    u_x = grad(u, x)\n",
    "\n",
    "    # PDE loss\n",
    "    f = u_t + c * u_x  # Ensure 'c' is defined or passed to the function\n",
    "\n",
    "    # Boundary conditions (ensure these are correct for your problem) \n",
    "    boundary_condition = model(-1*torch.ones_like(x),t) - model(torch.ones_like(x),t)\n",
    "    initial_condition = model(x, torch.zeros_like(t)) - torch.sin(2*np.pi *x)\n",
    "\n",
    "    # Compute MSE for PDE, boundary, and initial conditions\n",
    "    loss_pde = torch.mean(f**2)\n",
    "    loss_boundary = torch.mean(boundary_condition**2)\n",
    "    loss_initial = torch.mean(initial_condition**2)\n",
    "\n",
    "    return loss_pde + 10.0*loss_boundary + 10.0*loss_initial\n",
    "    \n",
    "# Training\n",
    "def train(model, epochs, optimizer, x, t,c):\n",
    "    model.train()\n",
    "    for epoch in range(epochs):\n",
    "        optimizer.zero_grad()\n",
    "        l = loss_fn(model, x, t,c)\n",
    "        l.backward()\n",
    "        optimizer.step()\n",
    "        if epoch % 50 == 0:\n",
    "            print(f'Epoch {epoch}: Loss = {l.item()}')\n",
    "\n",
    "# Grid points\n",
    "xmin, xmax, nx = -1, 1, 100\n",
    "tmin, tmax, nt = 0, 2, 100\n",
    "x = torch.linspace(xmin, xmax, nx, device=device).unsqueeze(1)\n",
    "t = torch.linspace(tmin, tmax, nt, device=device).unsqueeze(1)\n",
    "x_mesh, t_mesh = torch.meshgrid(x.flatten(), t.flatten())\n",
    "x_mesh, t_mesh = x_mesh.flatten().unsqueeze(1), t_mesh.flatten().unsqueeze(1)\n",
    " \n",
    "# Constants\n",
    "c = 0.5\n",
    "\n",
    "# Initialize model, optimizer\n",
    "model = PINN().to(device)\n",
    "optimizer = torch.optim.Adam(model.parameters(), lr=0.01)\n",
    "\n",
    "# Train the model\n",
    "train(model, 10000, optimizer, x_mesh, t_mesh,c)\n"
   ]
  },
  {
   "cell_type": "code",
   "execution_count": 4,
   "id": "7f8aa5cc",
   "metadata": {},
   "outputs": [
    {
     "name": "stdout",
     "output_type": "stream",
     "text": [
      "L2 err, all timesteps: 315.3835426443291\n",
      "Avg-L2 err, all timesteps: 0.03153835426443291\n",
      "L2 err, t=0: 0.00029576472218680093\n",
      "L2 err, t=2: 0.18259183417764552\n"
     ]
    }
   ],
   "source": [
    "import torch\n",
    "import numpy as np\n",
    "import matplotlib.pyplot as plt\n",
    "from matplotlib import cm\n",
    "\n",
    "# Assuming 'model' and 'device' are already defined and the model is trained.\n",
    "\n",
    "# Generate predictions from the trained model\n",
    "model.eval()  # Set the model to evaluation mode \n",
    "with torch.no_grad():\n",
    "    u_pred = model(x_mesh, t_mesh).cpu().numpy()\n",
    "\n",
    "# Exact solution (update this according to your problem's exact solution)\n",
    "u_exact = np.sin( 2*np.pi * (x_mesh.cpu().detach().numpy() - c*t_mesh.cpu().detach().numpy()))\n",
    "                 \n",
    "# Compute L2 errors\n",
    "l2_err = np.sum((u_exact - u_pred)**2)\n",
    "l2_err_t0 = np.sum((u_exact[0, :] - u_pred[0, :])**2)\n",
    "l2_err_tmax = np.sum((u_exact[-1, :] - u_pred[-1, :])**2)\n",
    "\n",
    "# Output error information\n",
    "print(f'L2 err, all timesteps: {l2_err}')\n",
    "print(f'Avg-L2 err, all timesteps: {l2_err/u_pred.size}')\n",
    "print(f'L2 err, t=0: {l2_err_t0}')\n",
    "print(f'L2 err, t={tmax}: {l2_err_tmax}')\n"
   ]
  },
  {
   "cell_type": "code",
   "execution_count": 1,
   "id": "6ecaa755",
   "metadata": {},
   "outputs": [
    {
     "ename": "NameError",
     "evalue": "name 'torch' is not defined",
     "output_type": "error",
     "traceback": [
      "\u001b[1;31m---------------------------------------------------------------------------\u001b[0m",
      "\u001b[1;31mNameError\u001b[0m                                 Traceback (most recent call last)",
      "\u001b[1;32m~\\AppData\\Local\\Temp\\ipykernel_11216\\885402539.py\u001b[0m in \u001b[0;36m<module>\u001b[1;34m\u001b[0m\n\u001b[0;32m      3\u001b[0m \u001b[1;33m\u001b[0m\u001b[0m\n\u001b[0;32m      4\u001b[0m \u001b[1;31m# Assuming your x_mesh and t_mesh are defined correctly in the tensor form.\u001b[0m\u001b[1;33m\u001b[0m\u001b[1;33m\u001b[0m\u001b[0m\n\u001b[1;32m----> 5\u001b[1;33m \u001b[0mx\u001b[0m \u001b[1;33m=\u001b[0m \u001b[0mtorch\u001b[0m\u001b[1;33m.\u001b[0m\u001b[0mlinspace\u001b[0m\u001b[1;33m(\u001b[0m\u001b[0mxmin\u001b[0m\u001b[1;33m,\u001b[0m \u001b[0mxmax\u001b[0m\u001b[1;33m,\u001b[0m \u001b[0mnx\u001b[0m\u001b[1;33m,\u001b[0m \u001b[0mdevice\u001b[0m\u001b[1;33m=\u001b[0m\u001b[0mdevice\u001b[0m\u001b[1;33m)\u001b[0m\u001b[1;33m.\u001b[0m\u001b[0mcpu\u001b[0m\u001b[1;33m(\u001b[0m\u001b[1;33m)\u001b[0m\u001b[1;33m.\u001b[0m\u001b[0mnumpy\u001b[0m\u001b[1;33m(\u001b[0m\u001b[1;33m)\u001b[0m\u001b[1;33m\u001b[0m\u001b[1;33m\u001b[0m\u001b[0m\n\u001b[0m\u001b[0;32m      6\u001b[0m \u001b[0mt\u001b[0m \u001b[1;33m=\u001b[0m \u001b[0mtorch\u001b[0m\u001b[1;33m.\u001b[0m\u001b[0mlinspace\u001b[0m\u001b[1;33m(\u001b[0m\u001b[0mtmin\u001b[0m\u001b[1;33m,\u001b[0m \u001b[0mtmax\u001b[0m\u001b[1;33m,\u001b[0m \u001b[0mnt\u001b[0m\u001b[1;33m,\u001b[0m \u001b[0mdevice\u001b[0m\u001b[1;33m=\u001b[0m\u001b[0mdevice\u001b[0m\u001b[1;33m)\u001b[0m\u001b[1;33m.\u001b[0m\u001b[0mcpu\u001b[0m\u001b[1;33m(\u001b[0m\u001b[1;33m)\u001b[0m\u001b[1;33m.\u001b[0m\u001b[0mnumpy\u001b[0m\u001b[1;33m(\u001b[0m\u001b[1;33m)\u001b[0m\u001b[1;33m\u001b[0m\u001b[1;33m\u001b[0m\u001b[0m\n\u001b[0;32m      7\u001b[0m \u001b[1;33m\u001b[0m\u001b[0m\n",
      "\u001b[1;31mNameError\u001b[0m: name 'torch' is not defined"
     ]
    }
   ],
   "source": [
    "import numpy as np\n",
    "import matplotlib.pyplot as plt\n",
    "\n",
    "# Assuming your x_mesh and t_mesh are defined correctly in the tensor form.\n",
    "x = torch.linspace(xmin, xmax, nx, device=device).cpu().numpy()\n",
    "t = torch.linspace(tmin, tmax, nt, device=device).cpu().numpy()\n",
    "\n",
    "# Since these are grid centers, calculate the step size and expand the grid to cover edges.\n",
    "x_step = (x[1] - x[0])\n",
    "t_step = (t[1] - t[0])\n",
    "\n",
    "# Create new arrays that represent the edges, not the centers\n",
    "x_edges = np.append(x, x[-1] + x_step) - x_step/2\n",
    "t_edges = np.append(t, t[-1] + t_step) - t_step/2\n",
    "\n",
    "# Use these arrays for pcolormesh\n",
    "fig, axes = plt.subplots(nrows=1, ncols=3, figsize=(6, 15))\n",
    "\n",
    "# Exact solution\n",
    "ax = axes[0]\n",
    "cc = ax.pcolormesh(x_edges, t_edges, u_exact.reshape((nt, nx)).T, cmap='seismic', shading='auto')\n",
    "ax.set_xlabel('x')\n",
    "ax.set_ylabel('t')\n",
    "ax.set_title('$u(x,t) (exact)$')\n",
    "fig.colorbar(cc, ax=ax)\n",
    "\n",
    "# Predicted solution\n",
    "ax = axes[1]\n",
    "cc = ax.pcolormesh(x_edges, t_edges, u_pred.reshape((nt, nx)).T, cmap='seismic', shading='auto')\n",
    "ax.set_xlabel('x')\n",
    "ax.set_ylabel('t')\n",
    "ax.set_title('$NN(x,t)\\simeq u(x,t) (prediction)$')\n",
    "fig.colorbar(cc, ax=ax)\n",
    "\n",
    "# Errors\n",
    "ax = axes[2]\n",
    "cc = ax.pcolormesh(x_edges, t_edges, (u_exact.reshape((nt, nx)) - u_pred.reshape((nt, nx))).T, cmap='seismic', shading='auto')\n",
    "ax.set_xlabel('x')\n",
    "ax.set_ylabel('t')\n",
    "ax.set_title('Error')\n",
    "fig.colorbar(cc, ax=ax)"
   ]
  }
 ],
 "metadata": {
  "kernelspec": {
   "display_name": "Python 3 (Spyder)",
   "language": "python3",
   "name": "python3"
  },
  "language_info": {
   "codemirror_mode": {
    "name": "ipython",
    "version": 3
   },
   "file_extension": ".py",
   "mimetype": "text/x-python",
   "name": "python",
   "nbconvert_exporter": "python",
   "pygments_lexer": "ipython3",
   "version": "3.9.16"
  }
 },
 "nbformat": 4,
 "nbformat_minor": 5
}
